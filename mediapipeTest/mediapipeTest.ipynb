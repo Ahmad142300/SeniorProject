{
 "cells": [
  {
   "cell_type": "code",
   "execution_count": 4,
   "metadata": {},
   "outputs": [],
   "source": [
    "import mediapipe as mp\n",
    "from mediapipe.tasks import python\n",
    "from mediapipe.tasks.python import vision\n"
   ]
  },
  {
   "cell_type": "code",
   "execution_count": 5,
   "metadata": {},
   "outputs": [],
   "source": [
    "model_path = r'pose_landmarker_full.task'\n"
   ]
  },
  {
   "cell_type": "markdown",
   "metadata": {},
   "source": [
    "# Testing with images"
   ]
  },
  {
   "cell_type": "code",
   "execution_count": 6,
   "metadata": {},
   "outputs": [],
   "source": [
    "# Load the input image from an image file.\n",
    "mp_image = mp.Image.create_from_file(r'person.jpg')\n"
   ]
  },
  {
   "cell_type": "code",
   "execution_count": 7,
   "metadata": {},
   "outputs": [
    {
     "name": "stdout",
     "output_type": "stream",
     "text": [
      "PoseLandmarkerResult(pose_landmarks=[[NormalizedLandmark(x=0.48355087637901306, y=0.3016381859779358, z=-0.9341099858283997, visibility=0.9999996423721313, presence=0.9999935626983643), NormalizedLandmark(x=0.5231058597564697, y=0.25130581855773926, z=-0.870972752571106, visibility=0.9999977350234985, presence=0.9999872446060181), NormalizedLandmark(x=0.5468432903289795, y=0.25047534704208374, z=-0.8702501654624939, visibility=0.9999988079071045, presence=0.9999871253967285), NormalizedLandmark(x=0.5657398700714111, y=0.25102663040161133, z=-0.8693735599517822, visibility=0.9999978542327881, presence=0.9999861717224121), NormalizedLandmark(x=0.44808968901634216, y=0.2557743787765503, z=-0.847662627696991, visibility=0.9999977350234985, presence=0.9999884366989136), NormalizedLandmark(x=0.4265177547931671, y=0.258273184299469, z=-0.8475460410118103, visibility=0.9999988079071045, presence=0.9999881982803345), NormalizedLandmark(x=0.41025257110595703, y=0.26138001680374146, z=-0.8472594022750854, visibility=0.9999974966049194, presence=0.9999879598617554), NormalizedLandmark(x=0.5954923033714294, y=0.2691766023635864, z=-0.4345446527004242, visibility=0.9999992847442627, presence=0.9999908208847046), NormalizedLandmark(x=0.38393595814704895, y=0.28106844425201416, z=-0.3235035836696625, visibility=0.9999990463256836, presence=0.999993085861206), NormalizedLandmark(x=0.5319970846176147, y=0.3542477488517761, z=-0.7737628221511841, visibility=0.9999992847442627, presence=0.9999985694885254), NormalizedLandmark(x=0.44661659002304077, y=0.3593229055404663, z=-0.7439284324645996, visibility=0.9999991655349731, presence=0.9999984502792358), NormalizedLandmark(x=0.7290719747543335, y=0.5210466384887695, z=-0.25327834486961365, visibility=0.9999994039535522, presence=0.9999994039535522), NormalizedLandmark(x=0.2686370611190796, y=0.5178884863853455, z=-0.0785478726029396, visibility=0.9999990463256836, presence=0.9999986886978149), NormalizedLandmark(x=0.9636389017105103, y=0.8166868686676025, z=-0.8207985162734985, visibility=0.9977356195449829, presence=0.9881613254547119), NormalizedLandmark(x=0.06264480948448181, y=0.8106791973114014, z=-0.7487114667892456, visibility=0.9976930022239685, presence=0.9946721196174622), NormalizedLandmark(x=0.8682480454444885, y=0.5774849653244019, z=-1.5845752954483032, visibility=0.9999449253082275, presence=0.9999817609786987), NormalizedLandmark(x=0.13491645455360413, y=0.5553382635116577, z=-1.8274542093276978, visibility=0.9999480247497559, presence=0.9999850988388062), NormalizedLandmark(x=0.8650301694869995, y=0.49772775173187256, z=-1.7560993432998657, visibility=0.9996998310089111, presence=0.9999572038650513), NormalizedLandmark(x=0.12853512167930603, y=0.4697016477584839, z=-2.0270493030548096, visibility=0.9997686743736267, presence=0.999964714050293), NormalizedLandmark(x=0.8349018096923828, y=0.46534913778305054, z=-1.6666231155395508, visibility=0.9996683597564697, presence=0.9999706745147705), NormalizedLandmark(x=0.1565556526184082, y=0.4225575923919678, z=-1.9398689270019531, visibility=0.9997138381004333, presence=0.999982476234436), NormalizedLandmark(x=0.814362108707428, y=0.49906694889068604, z=-1.572521448135376, visibility=0.9996242523193359, presence=0.9999839067459106), NormalizedLandmark(x=0.17950505018234253, y=0.46001285314559937, z=-1.831954002380371, visibility=0.9996746778488159, presence=0.9999886751174927), NormalizedLandmark(x=0.6792919635772705, y=1.0473690032958984, z=-0.0555727481842041, visibility=0.24886447191238403, presence=0.048426177352666855), NormalizedLandmark(x=0.32831060886383057, y=1.0447051525115967, z=0.06040150672197342, visibility=0.3113003671169281, presence=0.07000762969255447), NormalizedLandmark(x=0.6409701704978943, y=1.5196127891540527, z=0.25108712911605835, visibility=0.0010043904185295105, presence=0.00015513450489379466), NormalizedLandmark(x=0.3041735887527466, y=1.5161550045013428, z=0.42572301626205444, visibility=0.000933855539187789, presence=0.00020437300554476678), NormalizedLandmark(x=0.6169801354408264, y=1.9233663082122803, z=0.971479058265686, visibility=0.00010896244930336252, presence=7.062782970024273e-06), NormalizedLandmark(x=0.2907205820083618, y=1.9492099285125732, z=0.9562234282493591, visibility=6.041230881237425e-05, presence=1.0005998774431646e-05), NormalizedLandmark(x=0.621511697769165, y=1.9731922149658203, z=1.0177539587020874, visibility=0.0005732012796215713, presence=1.1345459824951831e-05), NormalizedLandmark(x=0.28734090924263, y=2.0103440284729004, z=0.9949196577072144, visibility=0.00018638190522324294, presence=1.7172711523016915e-05), NormalizedLandmark(x=0.5744666457176208, y=2.076502799987793, z=0.45004117488861084, visibility=0.00019180146045982838, presence=3.527165608829819e-05), NormalizedLandmark(x=0.3083481788635254, y=2.086595296859741, z=0.3399350345134735, visibility=0.00029749464010819793, presence=4.28960302087944e-05)]], pose_world_landmarks=[[Landmark(x=0.015386801213026047, y=-0.5822581052780151, z=-0.25075337290763855, visibility=0.9999996423721313, presence=0.9999935626983643), Landmark(x=0.017704956233501434, y=-0.617868959903717, z=-0.22564564645290375, visibility=0.9999977350234985, presence=0.9999872446060181), Landmark(x=0.01938769593834877, y=-0.6212857961654663, z=-0.22372037172317505, visibility=0.9999988079071045, presence=0.9999871253967285), Landmark(x=0.0186466034501791, y=-0.6175466775894165, z=-0.22455960512161255, visibility=0.9999978542327881, presence=0.9999861717224121), Landmark(x=-0.015535924583673477, y=-0.6126956939697266, z=-0.23279231786727905, visibility=0.9999977350234985, presence=0.9999884366989136), Landmark(x=-0.017773456871509552, y=-0.6148732304573059, z=-0.23146668076515198, visibility=0.9999988079071045, presence=0.9999881982803345), Landmark(x=-0.015131525695323944, y=-0.6171983480453491, z=-0.2325536161661148, visibility=0.9999974966049194, presence=0.9999879598617554), Landmark(x=0.07127296179533005, y=-0.6046370267868042, z=-0.09838968515396118, visibility=0.9999992847442627, presence=0.9999908208847046), Landmark(x=-0.0770958662033081, y=-0.5839964747428894, z=-0.11196800321340561, visibility=0.9999990463256836, presence=0.999993085861206), Landmark(x=0.038997892290353775, y=-0.5580915808677673, z=-0.21727167069911957, visibility=0.9999992847442627, presence=0.9999985694885254), Landmark(x=-0.006189022213220596, y=-0.5508866906166077, z=-0.21679657697677612, visibility=0.9999991655349731, presence=0.9999984502792358), Landmark(x=0.14715740084648132, y=-0.43778061866760254, z=-0.023921586573123932, visibility=0.9999994039535522, presence=0.9999994039535522), Landmark(x=-0.17300093173980713, y=-0.41504865884780884, z=-0.07231926918029785, visibility=0.9999990463256836, presence=0.9999986886978149), Landmark(x=0.2659803032875061, y=-0.2698952257633209, z=-0.15924803912639618, visibility=0.9977356195449829, presence=0.9881613254547119), Landmark(x=-0.27851402759552, y=-0.24799761176109314, z=-0.27616769075393677, visibility=0.9976930022239685, presence=0.9946721196174622), Landmark(x=0.2442399263381958, y=-0.37589120864868164, z=-0.3511351943016052, visibility=0.9999449253082275, presence=0.9999817609786987), Landmark(x=-0.2343531847000122, y=-0.3462667763233185, z=-0.4342501759529114, visibility=0.9999480247497559, presence=0.9999850988388062), Landmark(x=0.23852865397930145, y=-0.3945806622505188, z=-0.3876441419124603, visibility=0.9996998310089111, presence=0.9999572038650513), Landmark(x=-0.21258500218391418, y=-0.37061357498168945, z=-0.4608516991138458, visibility=0.9997686743736267, presence=0.999964714050293), Landmark(x=0.21787633001804352, y=-0.44481053948402405, z=-0.37932947278022766, visibility=0.9996683597564697, presence=0.9999706745147705), Landmark(x=-0.19536325335502625, y=-0.4167178273200989, z=-0.4327280819416046, visibility=0.9997138381004333, presence=0.999982476234436), Landmark(x=0.23126612603664398, y=-0.4071730673313141, z=-0.3607112169265747, visibility=0.9996242523193359, presence=0.9999839067459106), Landmark(x=-0.21192103624343872, y=-0.36779698729515076, z=-0.44524046778678894, visibility=0.9996746778488159, presence=0.9999886751174927), Landmark(x=0.10041068494319916, y=0.015768371522426605, z=0.01163340825587511, visibility=0.24886447191238403, presence=0.048426177352666855), Landmark(x=-0.10236936807632446, y=-0.0200345478951931, z=-0.011823332868516445, visibility=0.3113003671169281, presence=0.07000762969255447), Landmark(x=0.0600893460214138, y=0.24444594979286194, z=0.010688869282603264, visibility=0.0010043904185295105, presence=0.00015513450489379466), Landmark(x=-0.13369813561439514, y=0.02711712010204792, z=-0.1703292429447174, visibility=0.000933855539187789, presence=0.00020437300554476678), Landmark(x=0.07748693972826004, y=0.5605915784835815, z=0.09652364253997803, visibility=0.00010896244930336252, presence=7.062782970024273e-06), Landmark(x=-0.1212034597992897, y=0.3555315136909485, z=-0.2731870114803314, visibility=6.041230881237425e-05, presence=1.0005998774431646e-05), Landmark(x=0.08149643242359161, y=0.5999735593795776, z=0.1120934933423996, visibility=0.0005732012796215713, presence=1.1345459824951831e-05), Landmark(x=-0.13879406452178955, y=0.3958452641963959, z=-0.24315112829208374, visibility=0.00018638190522324294, presence=1.7172711523016915e-05), Landmark(x=0.11369995772838593, y=0.6495722532272339, z=-0.03480037301778793, visibility=0.00019180146045982838, presence=3.527165608829819e-05), Landmark(x=-0.0695752203464508, y=0.3379170000553131, z=-0.4907282590866089, visibility=0.00029749464010819793, presence=4.28960302087944e-05)]], segmentation_masks=None)\n"
     ]
    }
   ],
   "source": [
    "BaseOptions = mp.tasks.BaseOptions\n",
    "PoseLandmarker = mp.tasks.vision.PoseLandmarker\n",
    "PoseLandmarkerOptions = mp.tasks.vision.PoseLandmarkerOptions\n",
    "VisionRunningMode = mp.tasks.vision.RunningMode\n",
    "\n",
    "options = PoseLandmarkerOptions(\n",
    "    base_options=BaseOptions(model_asset_path=model_path),\n",
    "    running_mode=VisionRunningMode.IMAGE)\n",
    "\n",
    "with PoseLandmarker.create_from_options(options) as landmarker:\n",
    "  # The landmarker is initialized. Use it here.\n",
    "  # ...\n",
    "  pose_landmarker_result = landmarker.detect(mp_image)\n",
    "  print(pose_landmarker_result)\n",
    "    "
   ]
  },
  {
   "cell_type": "code",
   "execution_count": null,
   "metadata": {},
   "outputs": [],
   "source": [
    "from mediapipe import solutions\n",
    "from mediapipe.framework.formats import landmark_pb2\n",
    "import numpy as np\n",
    "from PIL import Image\n",
    "\n",
    "\n",
    "def draw_landmarks_on_image(rgb_image, detection_result):\n",
    "  pose_landmarks_list = detection_result.pose_landmarks\n",
    "  annotated_image = np.copy(rgb_image)\n",
    "\n",
    "  # Loop through the detected poses to visualize.\n",
    "  for idx in range(len(pose_landmarks_list)):\n",
    "    pose_landmarks = pose_landmarks_list[idx]\n",
    "\n",
    "    # Draw the pose landmarks.\n",
    "    pose_landmarks_proto = landmark_pb2.NormalizedLandmarkList()\n",
    "    pose_landmarks_proto.landmark.extend([\n",
    "      landmark_pb2.NormalizedLandmark(x=landmark.x, y=landmark.y, z=landmark.z) for landmark in pose_landmarks\n",
    "    ])\n",
    "    solutions.drawing_utils.draw_landmarks(\n",
    "      annotated_image,\n",
    "      pose_landmarks_proto,\n",
    "      solutions.pose.POSE_CONNECTIONS,\n",
    "      solutions.drawing_styles.get_default_pose_landmarks_style())\n",
    "  return annotated_image\n",
    "\n",
    "annotated_image = draw_landmarks_on_image(mp_image.numpy_view(), pose_landmarker_result)\n",
    "Image.fromarray(annotated_image)\n",
    "annotated_image = Image.fromarray(annotated_image)\n",
    "annotated_image.show()\n",
    "annotated_image.save('output.jpg')\n"
   ]
  }
 ],
 "metadata": {
  "kernelspec": {
   "display_name": "mediapipe_env",
   "language": "python",
   "name": "python3"
  },
  "language_info": {
   "codemirror_mode": {
    "name": "ipython",
    "version": 3
   },
   "file_extension": ".py",
   "mimetype": "text/x-python",
   "name": "python",
   "nbconvert_exporter": "python",
   "pygments_lexer": "ipython3",
   "version": "3.11.11"
  }
 },
 "nbformat": 4,
 "nbformat_minor": 2
}
