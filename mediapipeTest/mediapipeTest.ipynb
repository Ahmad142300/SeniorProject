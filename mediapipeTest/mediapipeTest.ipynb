{
 "cells": [
  {
   "cell_type": "code",
   "execution_count": 2,
   "metadata": {},
   "outputs": [],
   "source": [
    "import mediapipe as mp\n",
    "from mediapipe.tasks import python\n",
    "from mediapipe.tasks.python import vision\n",
    "import numpy as np\n",
    "from mediapipe import solutions\n",
    "from mediapipe.framework.formats import landmark_pb2\n",
    "import numpy as np\n",
    "from PIL import Image\n",
    "import cv2\n",
    "import time\n",
    "import mediapipe as mp"
   ]
  },
  {
   "cell_type": "code",
   "execution_count": 14,
   "metadata": {},
   "outputs": [],
   "source": [
    "model_path = r'pose_landmarker_heavy.task'\n"
   ]
  },
  {
   "cell_type": "code",
   "execution_count": 4,
   "metadata": {},
   "outputs": [],
   "source": [
    "def draw_landmarks_on_image(rgb_image, detection_result):\n",
    "  pose_landmarks_list = detection_result.pose_landmarks\n",
    "  annotated_image = np.copy(rgb_image)\n",
    "\n",
    "  # Loop through the detected poses to visualize.\n",
    "  for idx in range(len(pose_landmarks_list)):\n",
    "    pose_landmarks = pose_landmarks_list[idx]\n",
    "\n",
    "    # Draw the pose landmarks.\n",
    "    pose_landmarks_proto = landmark_pb2.NormalizedLandmarkList()\n",
    "    pose_landmarks_proto.landmark.extend([\n",
    "      landmark_pb2.NormalizedLandmark(x=landmark.x, y=landmark.y, z=landmark.z) for landmark in pose_landmarks\n",
    "    ])\n",
    "    solutions.drawing_utils.draw_landmarks(\n",
    "      annotated_image,\n",
    "      pose_landmarks_proto,\n",
    "      solutions.pose.POSE_CONNECTIONS,\n",
    "      solutions.drawing_styles.get_default_pose_landmarks_style())\n",
    "  return annotated_image"
   ]
  },
  {
   "cell_type": "markdown",
   "metadata": {},
   "source": [
    "# Testing with images"
   ]
  },
  {
   "cell_type": "code",
   "execution_count": 4,
   "metadata": {},
   "outputs": [],
   "source": [
    "# Load the input image from an image file.\n",
    "mp_image = mp.Image.create_from_file(r'person.png')\n"
   ]
  },
  {
   "cell_type": "code",
   "execution_count": 5,
   "metadata": {},
   "outputs": [
    {
     "data": {
      "text/plain": [
       "(573, 433, 4)"
      ]
     },
     "execution_count": 5,
     "metadata": {},
     "output_type": "execute_result"
    }
   ],
   "source": [
    "mp_image.numpy_view().shape"
   ]
  },
  {
   "cell_type": "code",
   "execution_count": 6,
   "metadata": {},
   "outputs": [
    {
     "name": "stdout",
     "output_type": "stream",
     "text": [
      "PoseLandmarkerResult(pose_landmarks=[[NormalizedLandmark(x=0.4420117139816284, y=0.15436691045761108, z=-0.5071224570274353, visibility=0.9999953508377075, presence=0.9999985694885254), NormalizedLandmark(x=0.4532772898674011, y=0.13756179809570312, z=-0.48850584030151367, visibility=0.9999868869781494, presence=0.9999958276748657), NormalizedLandmark(x=0.46256303787231445, y=0.136842280626297, z=-0.4890199601650238, visibility=0.9999853372573853, presence=0.9999960660934448), NormalizedLandmark(x=0.4717201590538025, y=0.1363580822944641, z=-0.4889039397239685, visibility=0.9999887943267822, presence=0.999995231628418), NormalizedLandmark(x=0.4353560507297516, y=0.13897287845611572, z=-0.47310489416122437, visibility=0.9999892711639404, presence=0.9999932050704956), NormalizedLandmark(x=0.43136879801750183, y=0.13936001062393188, z=-0.47354018688201904, visibility=0.9999899864196777, presence=0.9999932050704956), NormalizedLandmark(x=0.4283042848110199, y=0.13957273960113525, z=-0.47371745109558105, visibility=0.9999873638153076, presence=0.9999908208847046), NormalizedLandmark(x=0.4951087236404419, y=0.1393488645553589, z=-0.33545956015586853, visibility=0.9999935626983643, presence=0.9999948740005493), NormalizedLandmark(x=0.4350794851779938, y=0.14155742526054382, z=-0.26497384905815125, visibility=0.999972939491272, presence=0.9999866485595703), NormalizedLandmark(x=0.4618181884288788, y=0.16727615892887115, z=-0.44386813044548035, visibility=0.999995231628418, presence=0.9999985694885254), NormalizedLandmark(x=0.4390447437763214, y=0.17047864198684692, z=-0.4271010458469391, visibility=0.9999910593032837, presence=0.9999959468841553), NormalizedLandmark(x=0.5930953621864319, y=0.21080578863620758, z=-0.2523059546947479, visibility=0.9999951124191284, presence=0.9999979734420776), NormalizedLandmark(x=0.40383675694465637, y=0.21834996342658997, z=-0.13163988292217255, visibility=0.9999756813049316, presence=0.9999880790710449), NormalizedLandmark(x=0.7440462708473206, y=0.24756939709186554, z=-0.4375993609428406, visibility=0.9956455230712891, presence=0.9998859167098999), NormalizedLandmark(x=0.32637035846710205, y=0.24790771305561066, z=-0.38205036520957947, visibility=0.9427894949913025, presence=0.9997848868370056), NormalizedLandmark(x=0.6753464937210083, y=0.27621424198150635, z=-0.7922974228858948, visibility=0.9986781477928162, presence=0.9999983310699463), NormalizedLandmark(x=0.31644484400749207, y=0.2860623002052307, z=-0.8811416029930115, visibility=0.9959915280342102, presence=0.9999912977218628), NormalizedLandmark(x=0.6646134853363037, y=0.289087176322937, z=-0.8889743685722351, visibility=0.9985659718513489, presence=0.9999951124191284), NormalizedLandmark(x=0.31756532192230225, y=0.2944471538066864, z=-1.0030100345611572, visibility=0.9964317083358765, presence=0.9999792575836182), NormalizedLandmark(x=0.6368069648742676, y=0.28598034381866455, z=-0.9140276312828064, visibility=0.9987523555755615, presence=0.999997615814209), NormalizedLandmark(x=0.33272939920425415, y=0.29007649421691895, z=-1.0185000896453857, visibility=0.9967377781867981, presence=0.9999905824661255), NormalizedLandmark(x=0.6385825872421265, y=0.28511130809783936, z=-0.8074449300765991, visibility=0.9972599744796753, presence=0.9999986886978149), NormalizedLandmark(x=0.3385922908782959, y=0.28857553005218506, z=-0.9048433899879456, visibility=0.9948089122772217, presence=0.999995231628418), NormalizedLandmark(x=0.5928813815116882, y=0.41566959023475647, z=-0.052397098392248154, visibility=0.9996411800384521, presence=0.9999582767486572), NormalizedLandmark(x=0.48827433586120605, y=0.42477962374687195, z=0.051919952034950256, visibility=0.9994107484817505, presence=0.9999520778656006), NormalizedLandmark(x=0.5923032164573669, y=0.5920225381851196, z=-0.10598516464233398, visibility=0.47108930349349976, presence=0.999731719493866), NormalizedLandmark(x=0.4463399350643158, y=0.5853157043457031, z=-0.07102394849061966, visibility=0.29824313521385193, presence=0.9995439648628235), NormalizedLandmark(x=0.5911528468132019, y=0.7564264535903931, z=0.043440237641334534, visibility=0.7431578040122986, presence=0.9997003078460693), NormalizedLandmark(x=0.48986655473709106, y=0.7257408499717712, z=0.1941644549369812, visibility=0.48235994577407837, presence=0.9996682405471802), NormalizedLandmark(x=0.5918635725975037, y=0.7738251090049744, z=0.04196622222661972, visibility=0.42722389101982117, presence=0.9989657402038574), NormalizedLandmark(x=0.5096264481544495, y=0.7440718412399292, z=0.2102741003036499, visibility=0.3945709764957428, presence=0.9995834231376648), NormalizedLandmark(x=0.575762152671814, y=0.8148313760757446, z=-0.2049511820077896, visibility=0.8017900586128235, presence=0.9985402822494507), NormalizedLandmark(x=0.4423242211341858, y=0.7651146054267883, z=0.02868417650461197, visibility=0.5708146095275879, presence=0.9989161491394043)]], pose_world_landmarks=[[Landmark(x=-0.1614951193332672, y=-0.5478752851486206, z=-0.345442533493042, visibility=0.9999953508377075, presence=0.9999985694885254), Landmark(x=-0.13226787745952606, y=-0.5711705684661865, z=-0.3476155996322632, visibility=0.9999868869781494, presence=0.9999958276748657), Landmark(x=-0.13241612911224365, y=-0.571355938911438, z=-0.33621397614479065, visibility=0.9999853372573853, presence=0.9999960660934448), Landmark(x=-0.13400202989578247, y=-0.5716399550437927, z=-0.3405705690383911, visibility=0.9999887943267822, presence=0.999995231628418), Landmark(x=-0.1598406285047531, y=-0.5822415351867676, z=-0.3489428758621216, visibility=0.9999892711639404, presence=0.9999932050704956), Landmark(x=-0.15701252222061157, y=-0.5816909670829773, z=-0.36338725686073303, visibility=0.9999899864196777, presence=0.9999932050704956), Landmark(x=-0.15109090507030487, y=-0.5703962445259094, z=-0.34252679347991943, visibility=0.9999873638153076, presence=0.9999908208847046), Landmark(x=-0.041436538100242615, y=-0.5707132816314697, z=-0.2771444618701935, visibility=0.9999935626983643, presence=0.9999948740005493), Landmark(x=-0.16489778459072113, y=-0.5306410789489746, z=-0.22963450849056244, visibility=0.999972939491272, presence=0.9999866485595703), Landmark(x=-0.11378692090511322, y=-0.5429139733314514, z=-0.3088165819644928, visibility=0.999995231628418, presence=0.9999985694885254), Landmark(x=-0.1439705640077591, y=-0.5122048854827881, z=-0.32303518056869507, visibility=0.9999910593032837, presence=0.9999959468841553), Landmark(x=0.11534310132265091, y=-0.45485448837280273, z=-0.14584237337112427, visibility=0.9999951124191284, presence=0.9999979734420776), Landmark(x=-0.21274077892303467, y=-0.4985043406486511, z=-0.07063998281955719, visibility=0.9999756813049316, presence=0.9999880790710449), Landmark(x=0.32193851470947266, y=-0.365013986825943, z=-0.22808967530727386, visibility=0.9956455230712891, presence=0.9998859167098999), Landmark(x=-0.29358506202697754, y=-0.35104629397392273, z=-0.20510943233966827, visibility=0.9427894949913025, presence=0.9997848868370056), Landmark(x=0.2421654909849167, y=-0.29118579626083374, z=-0.3224599063396454, visibility=0.9986781477928162, presence=0.9999983310699463), Landmark(x=-0.2982785403728485, y=-0.2956690788269043, z=-0.42739051580429077, visibility=0.9959915280342102, presence=0.9999912977218628), Landmark(x=0.20523853600025177, y=-0.2643970251083374, z=-0.34269094467163086, visibility=0.9985659718513489, presence=0.9999951124191284), Landmark(x=-0.2759760022163391, y=-0.28411218523979187, z=-0.5065799355506897, visibility=0.9964317083358765, presence=0.9999792575836182), Landmark(x=0.14686796069145203, y=-0.2786574959754944, z=-0.35832616686820984, visibility=0.9987523555755615, presence=0.999997615814209), Landmark(x=-0.21216070652008057, y=-0.32194840908050537, z=-0.5113914012908936, visibility=0.9967377781867981, presence=0.9999905824661255), Landmark(x=0.22157889604568481, y=-0.276386022567749, z=-0.3296450078487396, visibility=0.9972599744796753, presence=0.9999986886978149), Landmark(x=-0.2739574611186981, y=-0.2985219359397888, z=-0.44158735871315, visibility=0.9948089122772217, presence=0.999995231628418), Landmark(x=0.08715737611055374, y=-0.006050494499504566, z=0.004399043507874012, visibility=0.9996411800384521, presence=0.9999582767486572), Landmark(x=-0.08570321649312973, y=5.0688162446022034e-05, z=-0.001992182107642293, visibility=0.9994107484817505, presence=0.9999520778656006), Landmark(x=0.08592583239078522, y=0.4275051951408386, z=-0.053080424666404724, visibility=0.47108930349349976, presence=0.999731719493866), Landmark(x=-0.11753109097480774, y=0.332510381937027, z=-0.05319206416606903, visibility=0.29824313521385193, presence=0.9995439648628235), Landmark(x=0.1358887106180191, y=0.777097225189209, z=0.0578216053545475, visibility=0.7431578040122986, presence=0.9997003078460693), Landmark(x=-0.08774922788143158, y=0.7058786153793335, z=0.14188948273658752, visibility=0.48235994577407837, presence=0.9996682405471802), Landmark(x=0.11630561202764511, y=0.8157848715782166, z=0.07199142873287201, visibility=0.42722389101982117, presence=0.9989657402038574), Landmark(x=-0.08848000317811966, y=0.7348707914352417, z=0.11910567432641983, visibility=0.3945709764957428, presence=0.9995834231376648), Landmark(x=0.08727207779884338, y=0.8418623805046082, z=0.011282725259661674, visibility=0.8017900586128235, presence=0.9985402822494507), Landmark(x=-0.16816049814224243, y=0.7529183626174927, z=0.07487311959266663, visibility=0.5708146095275879, presence=0.9989161491394043)]], segmentation_masks=None)\n"
     ]
    }
   ],
   "source": [
    "BaseOptions = mp.tasks.BaseOptions\n",
    "PoseLandmarker = mp.tasks.vision.PoseLandmarker\n",
    "PoseLandmarkerOptions = mp.tasks.vision.PoseLandmarkerOptions\n",
    "VisionRunningMode = mp.tasks.vision.RunningMode\n",
    "\n",
    "options = PoseLandmarkerOptions(\n",
    "    base_options=BaseOptions(model_asset_path=model_path),\n",
    "    running_mode=VisionRunningMode.IMAGE)\n",
    "\n",
    "with PoseLandmarker.create_from_options(options) as landmarker:\n",
    "  # The landmarker is initialized. Use it here.\n",
    "  # ...\n",
    "  pose_landmarker_result = landmarker.detect(mp_image)\n",
    "  print(pose_landmarker_result)\n",
    "    "
   ]
  },
  {
   "cell_type": "code",
   "execution_count": 7,
   "metadata": {},
   "outputs": [],
   "source": [
    "\n",
    "annotated_image = draw_landmarks_on_image(mp_image.numpy_view()[:,:, :3], pose_landmarker_result)\n",
    "Image.fromarray(annotated_image)\n",
    "annotated_image = Image.fromarray(annotated_image)\n",
    "annotated_image.show()\n",
    "annotated_image.save('output.jpg')\n"
   ]
  },
  {
   "cell_type": "markdown",
   "metadata": {},
   "source": [
    "# Testing with videos"
   ]
  },
  {
   "cell_type": "code",
   "execution_count": 17,
   "metadata": {},
   "outputs": [],
   "source": [
    "import mediapipe as mp\n",
    "import cv2\n",
    "\n",
    "BaseOptions = mp.tasks.BaseOptions\n",
    "PoseLandmarker = mp.tasks.vision.PoseLandmarker\n",
    "PoseLandmarkerOptions = mp.tasks.vision.PoseLandmarkerOptions\n",
    "VisionRunningMode = mp.tasks.vision.RunningMode\n",
    "video_path = r'C:\\Users\\trh00\\OneDrive\\Documents\\SeniorProject\\datasets\\fit3d_dataset\\test\\s02\\videos\\squat.mp4'\n",
    "\n",
    "frames = []\n",
    "# Create a pose landmarker instance with the video mode:\n",
    "options = PoseLandmarkerOptions(\n",
    "    base_options=BaseOptions(model_asset_path=model_path),\n",
    "    running_mode=VisionRunningMode.VIDEO)\n",
    "\n",
    "with PoseLandmarker.create_from_options(options) as landmarker:\n",
    "  # The landmarker is initialized. Use it here.\n",
    "  # ...\n",
    "\n",
    "  # Use OpenCV’s VideoCapture to load the input video.\n",
    "  video_capture = cv2.VideoCapture(video_path)\n",
    "  if not video_capture.isOpened():\n",
    "      print(\"Error: Could not open video.\")\n",
    "      exit()   \n",
    "  # Load the frame rate of the video using OpenCV’s CV_CAP_PROP_FPS\n",
    "  # You’ll need it to calculate the timestamp for each frame.\n",
    "  frame_rate = video_capture.get(cv2.CAP_PROP_FPS)\n",
    "  timestamp = 0 \n",
    "  # Loop through each frame in the video using VideoCapture#read()\n",
    "  while video_capture.isOpened():\n",
    "    success, frame = video_capture.read()\n",
    "    \n",
    "    if not success:\n",
    "      break\n",
    "    mp_image = mp.Image(image_format=mp.ImageFormat.SRGB, data=frame)\n",
    "    pose_landmarker_result = landmarker.detect_for_video(mp_image, timestamp)\n",
    "    timestamp += int(1000 / frame_rate)\n",
    "    # Draw the pose landmarks on the frame.\n",
    "    annotated_image = draw_landmarks_on_image(frame, pose_landmarker_result)\n",
    "    frames.append(annotated_image)\n",
    "    # cv2.imshow('MediaPipe Pose Landmarking', annotated_image) \n",
    "    # if cv2.waitKey(5) & 0xFF == 27:\n",
    "    #   break\n",
    "  video_capture.release()\n",
    "  cv2.destroyAllWindows()\n",
    "\n",
    "#   # specifying output video path \n",
    "# output_video = r'output_fullTask.mp4'\n",
    "# fourcc = cv2.VideoWriter_fourcc(*'XVID')\n",
    "# fps = 50\n",
    "# video_writer = cv2.VideoWriter(output_video, fourcc, fps, (annotated_image.shape[1], annotated_image.shape[0]))\n",
    "# for frame in frames:\n",
    "#     video_writer.write(frame)\n",
    "# video_writer.release()\n",
    "# print('Output video is ready at', output_video)\n",
    "\n",
    "  \n",
    "  \n",
    "      "
   ]
  },
  {
   "cell_type": "code",
   "execution_count": 9,
   "metadata": {},
   "outputs": [
    {
     "data": {
      "text/plain": [
       "0.0"
      ]
     },
     "execution_count": 9,
     "metadata": {},
     "output_type": "execute_result"
    }
   ],
   "source": [
    "video_capture.get(cv2.CAP_PROP_FPS)"
   ]
  },
  {
   "cell_type": "markdown",
   "metadata": {},
   "source": [
    "# Testing with webcam"
   ]
  },
  {
   "cell_type": "code",
   "execution_count": null,
   "metadata": {},
   "outputs": [],
   "source": [
    "BaseOptions = mp.tasks.BaseOptions\n",
    "PoseLandmarker = mp.tasks.vision.PoseLandmarker\n",
    "PoseLandmarkerOptions = mp.tasks.vision.PoseLandmarkerOptions\n",
    "PoseLandmarkerResult = mp.tasks.vision.PoseLandmarkerResult\n",
    "VisionRunningMode = mp.tasks.vision.RunningMode\n",
    "\n",
    "# Create a pose landmarker instance with the live stream mode:\n",
    "def print_result(result: PoseLandmarkerResult, output_image: mp.Image, timestamp_ms: int):\n",
    "    print('pose landmarker result: {}'.format(result))\n",
    "\n",
    "options = PoseLandmarkerOptions(\n",
    "    base_options=BaseOptions(model_asset_path=model_path),\n",
    "    running_mode=VisionRunningMode.LIVE_STREAM,\n",
    "    result_callback=print_result)\n",
    "\n",
    "with PoseLandmarker.create_from_options(options) as landmarker:\n",
    "    # Open the webcam stream (0 for the default camera)\n",
    "    cap = cv2.VideoCapture(0)\n",
    "    if not cap.isOpened():\n",
    "        print(\"Error: Could not open webcam.\")\n",
    "        exit()\n",
    "\n",
    "    # Record the start time to compute frame timestamps.\n",
    "    start_time = time.time()\n",
    "\n",
    "    while True:\n",
    "        success, frame = cap.read()\n",
    "        if not success:\n",
    "            print(\"Failed to capture frame from webcam.\")\n",
    "            break\n",
    "\n",
    "        # Optional: Flip the frame horizontally for a mirror view.\n",
    "        frame = cv2.flip(frame, 1)\n",
    "\n",
    "        # Convert the frame from BGR (OpenCV default) to RGB (expected by MediaPipe)\n",
    "        frame_rgb = cv2.cvtColor(frame, cv2.COLOR_BGR2RGB)\n",
    "\n",
    "        # Convert the frame to MediaPipe's Image format.\n",
    "        mp_image = mp.Image(image_format=mp.ImageFormat.SRGB, data=frame_rgb)\n",
    "        \n",
    "        # Compute the current frame's timestamp in milliseconds.\n",
    "        frame_timestamp_ms = int((time.time() - start_time) * 1000)\n",
    "\n",
    "        # Asynchronously process the frame. The results will be available via print_result.\n",
    "        landmarker.detect_async(mp_image, frame_timestamp_ms)\n",
    "        \n",
    "        # Display the frame (optional)\n",
    "        cv2.imshow('Live Stream', frame)\n",
    "        if cv2.waitKey(5) & 0xFF == 27:  # Exit loop when ESC key is pressed\n",
    "            break\n",
    "\n",
    "    cap.release()\n",
    "    cv2.destroyAllWindows()"
   ]
  },
  {
   "cell_type": "code",
   "execution_count": null,
   "metadata": {},
   "outputs": [],
   "source": []
  }
 ],
 "metadata": {
  "kernelspec": {
   "display_name": "mediapipe_env",
   "language": "python",
   "name": "python3"
  },
  "language_info": {
   "codemirror_mode": {
    "name": "ipython",
    "version": 3
   },
   "file_extension": ".py",
   "mimetype": "text/x-python",
   "name": "python",
   "nbconvert_exporter": "python",
   "pygments_lexer": "ipython3",
   "version": "3.11.11"
  }
 },
 "nbformat": 4,
 "nbformat_minor": 2
}
